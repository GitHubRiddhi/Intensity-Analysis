{
 "cells": [
  {
   "cell_type": "code",
   "execution_count": null,
   "id": "1f2a6b9c-792f-4ae0-a84e-e6e41647747d",
   "metadata": {},
   "outputs": [],
   "source": []
  },
  {
   "cell_type": "markdown",
   "id": "ef64b7bd-b2db-4228-890c-1a018abb3211",
   "metadata": {},
   "source": [
    "# Intensity Analysis  "
   ]
  },
  {
   "cell_type": "markdown",
   "id": "0bf66308-7e8a-43cb-838a-c70279d94e2e",
   "metadata": {},
   "source": [
    "---"
   ]
  },
  {
   "cell_type": "markdown",
   "id": "c0640ab0-3c8d-4380-80be-ac113b89efbd",
   "metadata": {
    "tags": []
   },
   "source": [
    "## Welcome to Intensity Analysis Notebook!\n",
    "\n",
    "Greeting and welcome to this comprehensive notebook that walks you through the model."
   ]
  },
  {
   "cell_type": "markdown",
   "id": "49c84366-1f87-411d-9c0e-005deeeead1c",
   "metadata": {},
   "source": [
    "\n",
    "## Overview\n",
    "\n",
    "This report presents the findings and analysis of a project aimed at developing a text classification model for classifying emotions based on their intensity levels. The project utilized machine learning techniques to classify textual data into different categories of emotions, including happiness, sadness, and angriness. \n",
    "\n",
    "\n",
    "The project involved the following key steps:\n",
    "\n",
    "1. **Data Collection:** The initial step involved collecting a dataset containing textual data labeled with different intensity levels of emotions, including happiness, sadness, and angriness.\n",
    "\n",
    "2. **Data Preprocessing:** The collected data was preprocessed to clean and prepare it for analysis. This step included removing special characters, converting text to lowercase, and handling missing values.\n",
    "\n",
    "3. **Feature Engineering:** Text data was transformed into numerical features using TF-IDF vectorization. Feature selection techniques such as SelectKBest were applied to select the most relevant features.\n",
    "\n",
    "4. **Model Training:** Machine learning models, such as Multinomial Naive Bayes, were trained on the preprocessed data to classify emotions based on their intensity levels.\n",
    "\n",
    "5. **Model Evaluation:** The trained models were evaluated using performance metrics such as accuracy, precision, recall, and F1-score. Cross-validation techniques were applied to assess model generalization.\n",
    "\n",
    "6. **Hyperparameter Tuning:** Hyperparameters of the models were fine-tuned using techniques like GridSearchCV to improve model performance.\n",
    "\n",
    "7. **Deployment:** Once the model was trained and evaluated, it was deployed for real-world applications to classify emotions in unseen textual data.\n",
    "\n",
    "\n",
    "\n"
   ]
  },
  {
   "cell_type": "markdown",
   "id": "bc9c1a31-0d9d-4b82-94fe-bcd27e9a4d6e",
   "metadata": {},
   "source": [
    "----"
   ]
  },
  {
   "cell_type": "markdown",
   "id": "98460160-d3a4-4950-adf7-83b18be9bfdc",
   "metadata": {},
   "source": [
    "## This code will help you build and evaluate your NLP model effectively."
   ]
  },
  {
   "cell_type": "markdown",
   "id": "6dca7db2-975c-43ea-b43a-345ca98b5f53",
   "metadata": {},
   "source": [
    "### Dependencies and Imports\n"
   ]
  },
  {
   "cell_type": "code",
   "execution_count": null,
   "id": "99623296-5f70-4906-8f94-e47d7aeb618a",
   "metadata": {},
   "outputs": [],
   "source": [
    "import pandas as pd\n",
    "from sagemaker import Session\n",
    "from sklearn.model_selection import train_test_split\n",
    "from sklearn.feature_extraction.text import TfidfVectorizer\n",
    "from sklearn.naive_bayes import MultinomialNB\n",
    "from sklearn.metrics import accuracy_score, classification_report, confusion_matrix, roc_curve, precision_recall_curve, roc_auc_score, average_precision_score\n",
    "import matplotlib.pyplot as plt\n",
    "from sklearn.preprocessing import label_binarize\n",
    "from sklearn.feature_selection import SelectKBest, chi2\n",
    "from sklearn.model_selection import GridSearchCV\n",
    "from sklearn.model_selection import RandomizedSearchCV, cross_val_score\n",
    "from scipy.stats import uniform\n",
    "import boto3\n",
    "import sagemaker\n"
   ]
  },
  {
   "cell_type": "markdown",
   "id": "0ba63b9d-7e98-4e25-93a2-fb84d3c410ac",
   "metadata": {},
   "source": [
    "## Data Loading from Amazon S3\n",
    "\n",
    "- Created a SageMaker session.\n",
    "- Specified the S3 bucket name.\n",
    "- Defined S3 paths for each dataset: happiness, sadness, and angriness.\n",
    "- Loaded data from S3 into pandas DataFrames.\n"
   ]
  },
  {
   "cell_type": "code",
   "execution_count": 4,
   "id": "c9f83b3e-aec6-4c18-89fa-a055e540d998",
   "metadata": {
    "tags": []
   },
   "outputs": [
    {
     "name": "stderr",
     "output_type": "stream",
     "text": [
      "/opt/conda/lib/python3.10/site-packages/fsspec/registry.py:275: UserWarning: Your installed version of s3fs is very old and known to cause\n",
      "severe performance issues, see also https://github.com/dask/dask/issues/10276\n",
      "\n",
      "To fix, you should specify a lower version bound on s3fs, or\n",
      "update the current installation.\n",
      "\n",
      "  warnings.warn(s3_msg)\n"
     ]
    }
   ],
   "source": [
    "\n",
    "# Create a SageMaker Session\n",
    "session = Session()\n",
    "\n",
    "# Specify S3 bucket \n",
    "bucket_name = 'intensity01'\n",
    "\n",
    "# Specify S3 paths for your datasets\n",
    "s3_paths = {\n",
    "    'happiness': f's3://{bucket_name }/happiness.csv',\n",
    "    'sadness': f's3://{bucket_name }/sadness.csv',\n",
    "    'angriness': f's3://{bucket_name}/angriness.csv'\n",
    "}\n",
    "\n",
    "# Load data from S3\n",
    "data = {}\n",
    "for label, path in s3_paths.items():\n",
    "    data[label] = pd.read_csv(path)\n"
   ]
  },
  {
   "cell_type": "markdown",
   "id": "63a1adbb-08c5-4c48-9ffd-35976e5ffdbd",
   "metadata": {},
   "source": [
    "## Data Preprocessing\n",
    "\n",
    "- Iterated over each dataset (happiness, sadness, angriness).\n",
    "- Removed special characters from the 'content' column using regular expressions.\n",
    "- Converted text to lowercase to ensure uniformity.\n",
    "- Handled missing values by dropping rows with missing values.\n",
    "- Printed the preprocessed data for each dataset.\n"
   ]
  },
  {
   "cell_type": "code",
   "execution_count": 8,
   "id": "80c2af8d-cd8b-4033-b3ba-a2d5d629770e",
   "metadata": {
    "collapsed": true,
    "jupyter": {
     "outputs_hidden": true
    },
    "tags": []
   },
   "outputs": [
    {
     "name": "stdout",
     "output_type": "stream",
     "text": [
      "Preprocessed happiness dataset:\n",
      "                                             content  intensity\n",
      "0  wants to know how the hell i can remember word...  happiness\n",
      "1  love is a long sweet dream & marriage is an al...  happiness\n",
      "2  the world could be amazing when you are slight...  happiness\n",
      "3  my secret talent is getting tired without doin...  happiness\n",
      "4  khatarnaak whatsapp status ever… can\\’t talk, ...  happiness\n",
      "Preprocessed sadness dataset:\n",
      "                                             content intensity\n",
      "0  never hurt people who love you a lot, because ...   sadness\n",
      "1  don’t expect me to tell you what you did wrong...   sadness\n",
      "2  i preferred walking away than fighting for you...   sadness\n",
      "3  moving forward in life isn’t the hard part, it...   sadness\n",
      "4  never cry for anyone in your life, because tho...   sadness\n",
      "Preprocessed angriness dataset:\n",
      "                                             content  intensity\n",
      "0  sometimes i’m not angry, i’m hurt and there’s ...  angriness\n",
      "1                     not available for busy people☺  angriness\n",
      "2  i do not exist to impress the world. i exist t...  angriness\n",
      "3  everything is getting expensive except some pe...  angriness\n",
      "4       my phone screen is brighter than my future 🙁  angriness\n"
     ]
    }
   ],
   "source": [
    "# Data Preprocessing\n",
    "for label, df in data.items():\n",
    "    # Remove special characters\n",
    "    df['content'] = df['content'].str.replace('[^\\w\\s]', '')\n",
    "    \n",
    "    # Convert text to lowercase\n",
    "    df['content'] = df['content'].str.lower()\n",
    "    \n",
    "    # Handle missing values \n",
    "    df.dropna(inplace=True)  # Remove rows with missing values\n",
    "    \n",
    "    # Print the preprocessed data\n",
    "    print(f\"Preprocessed {label} dataset:\")\n",
    "    print(df.head())\n"
   ]
  },
  {
   "cell_type": "markdown",
   "id": "a14c228c-eabb-459d-89dc-c79c92214f84",
   "metadata": {},
   "source": [
    "## Feature Engineering and Feature Selection\n",
    "\n",
    "- Combined all datasets (happiness, sadness, angriness) into a single DataFrame.\n",
    "- Applied TF-IDF Vectorization for feature engineering, converting text data into numerical features.\n",
    "- Used TfidfVectorizer with a specified maximum number of features (max_features=1000).\n",
    "- Performed feature selection using SelectKBest with a chi-square test.\n",
    "- Selected the top 500 features based on their chi-square scores.\n",
    "- Extracted the selected feature names and printed them for further reference.\n"
   ]
  },
  {
   "cell_type": "code",
   "execution_count": 9,
   "id": "6ee687e7-32e1-4aa5-b932-41dedfbf0a51",
   "metadata": {
    "collapsed": true,
    "jupyter": {
     "outputs_hidden": true
    },
    "tags": []
   },
   "outputs": [
    {
     "name": "stdout",
     "output_type": "stream",
     "text": [
      "Selected Features:\n",
      "['able', 'actually', 'afraid', 'again', 'allow', 'alone', 'always', 'am', 'amount', 'anger', 'angry', 'annoying', 'answer', 'any', 'anymore', 'anyone', 'anything', 'apart', 'appreciate', 'are', 'attitude', 'awake', 'away', 'bad', 'balanced', 'balloon', 'based', 'basically', 'beautiful', 'because', 'bed', 'been', 'begin', 'begun', 'being', 'believing', 'better', 'beyond', 'big', 'birth', 'bitches', 'blankly', 'bleakness', 'blessings', 'bliss', 'block', 'boy', 'break', 'breaking', 'breakup', 'bright', 'broke', 'broken', 'burst', 'business', 'but', 'buy', 'calm', 'can', 'cannot', 'cant', 'capacity', 'care', 'cares', 'caring', 'change', 'changed', 'cheaper', 'cheat', 'cheating', 'cheerful', 'children', 'choke', 'close', 'closer', 'clouds', 'colors', 'complains', 'complete', 'condition', 'cries', 'crumpled', 'cry', 'crying', 'curious', 'damage', 'danger', 'day', 'death', 'decide', 'decision', 'deep', 'deeper', 'deepest', 'deeply', 'definitely', 'definition', 'delete', 'deleted', 'depressed', 'depressing', 'describe', 'deserves', 'destroy', 'did', 'die', 'died', 'difference', 'direction', 'disappearing', 'disappointment', 'doesnt', 'don', 'dont', 'drinking', 'during', 'dying', 'each', 'easier', 'easily', 'eat', 'eight', 'embedded', 'empty', 'energy', 'english', 'enjoy', 'enough', 'entertain', 'even', 'eventually', 'every', 'everyday', 'everyone', 'everything', 'evil', 'ex', 'exactly', 'except', 'exit', 'expectation', 'expensive', 'experience', 'experiencing', 'expired', 'explain', 'explaining', 'eyes', 'face', 'facebook', 'fact', 'failed', 'failure', 'fall', 'falling', 'far', 'fast', 'faster', 'fear', 'feel', 'feelings', 'feels', 'fightin', 'fighting', 'finger', 'finished', 'flat', 'flower', 'food', 'for', 'forces', 'forget', 'forgetting', 'forgive', 'forgiven', 'forgiveness', 'forgotten', 'form', 'friend', 'from', 'frustrated', 'frustration', 'get', 'getting', 'girls', 'given', 'go', 'goes', 'granted', 'guess', 'guys', 'had', 'hands', 'happen', 'happened', 'happens', 'happiness', 'happy', 'hard', 'hating', 'head', 'heal', 'heart', 'heartbreak', 'hearts', 'heavy', 'her', 'hey', 'him', 'himself', 'home', 'hope', 'how', 'hug', 'hurt', 'hurting', 'hurts', 'if', 'ignore', 'important', 'increases', 'indicates', 'inner', 'inside', 'instead', 'is', 'it', 'its', 'journey', 'joy', 'judge', 'just', 'karma', 'keeping', 'key', 'kill', 'kind', 'kiss', 'knives', 'know', 'knowing', 'left', 'letter', 'lie', 'lied', 'like', 'likes', 'limits', 'little', 'll', 'loneliest', 'loneliness', 'losing', 'lots', 'love', 'loved', 'lying', 'mad', 'main', 'make', 'makes', 'man', 'manage', 'management', 'manager', 'map', 'me', 'meaning', 'meant', 'measure', 'memories', 'mental', 'messed', 'middle', 'mind', 'minds', 'minute', 'mirror', 'misery', 'miss', 'missing', 'mood', 'more', 'morning', 'most', 'mouth', 'mouths', 'move', 'moving', 'much', 'music', 'my', 'name', 'needed', 'negative', 'never', 'new', 'nicest', 'night', 'nightmare', 'no', 'nobody', 'nothing', 'noticed', 'now', 'number', 'off', 'okay', 'once', 'ones', 'online', 'open', 'opens', 'order', 'other', 'our', 'out', 'own', 'page', 'paid', 'pain', 'painful', 'papers', 'part', 'people', 'person', 'personality', 'persons', 'phrase', 'pick', 'pieces', 'pissed', 'pissing', 'please', 'plot', 'poison', 'positive', 'power', 'prefect', 'pretty', 'promised', 'prudent', 'pulled', 'punch', 'punished', 'pushing', 'put', 'quality', 'quick', 'quiet', 'rain', 're', 'react', 'read', 'real', 'realize', 'realizing', 'red', 'regret', 'rejected', 'relationships', 'relieved', 'remembered', 'remembering', 'replaces', 'response', 'return', 'revenge', 'ridiculous', 'sad', 'saddest', 'sadness', 'say', 'says', 'seconds', 'secret', 'seem', 'seldom', 'selfish', 'set', 'shame', 'she', 'shit', 'short', 'shuts', 'sick', 'silence', 'sin', 'sixty', 'skills', 'smaller', 'smile', 'smiling', 'so', 'solve', 'some', 'someday', 'someone', 'something', 'sometimes', 'somewhere', 'soon', 'sorry', 'speak', 'speed', 'spread', 'stare', 'status', 'still', 'stop', 'stopped', 'stupidity', 'success', 'sucks', 'suddenly', 'surprised', 'taken', 'talking', 'tears', 'technically', 'tell', 'telling', 'temper', 'texts', 'than', 'thanks', 'that', 'the', 'their', 'they', 'things', 'think', 'thinking', 'thought', 'thousand', 'throw', 'tired', 'to', 'together', 'tomorrow', 'tongue', 'too', 'touched', 'toughest', 'transmuted', 'treat', 'treated', 'tried', 'true', 'trust', 'truth', 'trying', 'turn', 'turns', 'typing', 'understand', 'upset', 'use', 'used', 'using', 've', 'waiting', 'walk', 'wanna', 'was', 'wasn', 'waste', 'wasted', 'watch', 'water', 'we', 'weak', 'whatsapp', 'when', 'whenever', 'while', 'who', 'why', 'wife', 'will', 'win', 'winning', 'wish', 'woman', 'won', 'words', 'work', 'works', 'worse', 'worst', 'wouldn', 'wrong', 'xa0', 'xa0angry', 'xa0complicated', 'xa0sad', 'years', 'yet', 'you', 'your']\n"
     ]
    }
   ],
   "source": [
    "\n",
    "# Combine data into a single DataFrame\n",
    "combined_data = pd.concat([\n",
    "    data['happiness'].assign(label='happiness'),\n",
    "    data['sadness'].assign(label='sadness'),\n",
    "    data['angriness'].assign(label='angriness')\n",
    "], ignore_index=True)\n",
    "\n",
    "# Feature Engineering: TF-IDF Vectorization\n",
    "vectorizer = TfidfVectorizer(max_features=1000)  \n",
    "X = vectorizer.fit_transform(combined_data['content'])\n",
    "y = combined_data['label']\n",
    "\n",
    "# Feature Selection: SelectKBest with chi-square test\n",
    "selector = SelectKBest(score_func=chi2, k=500)  \n",
    "X_selected = selector.fit_transform(X, y)\n",
    "\n",
    "# Get the selected feature names\n",
    "feature_names = vectorizer.get_feature_names_out()\n",
    "selected_feature_names = [feature_names[i] for i in selector.get_support(indices=True)]\n",
    "\n",
    "# Print selected feature names\n",
    "print(\"Selected Features:\")\n",
    "print(selected_feature_names)\n"
   ]
  },
  {
   "cell_type": "markdown",
   "id": "234d88c0-df02-4bba-be48-d5bcafa280ac",
   "metadata": {},
   "source": [
    "## Train-Test Split\n",
    "\n",
    "- Utilized train_test_split function from sklearn.model_selection module to split the dataset into training and testing sets.\n",
    "- Specified the test size to be 20% of the entire dataset and set a random state for reproducibility.\n",
    "- Printed the shapes of the training and testing sets to verify the split.\n"
   ]
  },
  {
   "cell_type": "code",
   "execution_count": 11,
   "id": "935cfd3a-e120-4046-8424-f49e40dc5db9",
   "metadata": {
    "collapsed": true,
    "jupyter": {
     "outputs_hidden": true
    },
    "tags": []
   },
   "outputs": [
    {
     "name": "stdout",
     "output_type": "stream",
     "text": [
      "Shape of X_train: (1631, 500)\n",
      "Shape of X_test: (408, 500)\n",
      "Shape of y_train: (1631,)\n",
      "Shape of y_test: (408,)\n"
     ]
    }
   ],
   "source": [
    "\n",
    "# Split the data into training and testing sets\n",
    "X_train, X_test, y_train, y_test = train_test_split(X_selected, y, test_size=0.2, random_state=42)\n",
    "\n",
    "# Print the shapes of the training and testing sets\n",
    "print(\"Shape of X_train:\", X_train.shape)\n",
    "print(\"Shape of X_test:\", X_test.shape)\n",
    "print(\"Shape of y_train:\", y_train.shape)\n",
    "print(\"Shape of y_test:\", y_test.shape)\n"
   ]
  },
  {
   "cell_type": "markdown",
   "id": "8572bd1f-2846-4d3a-a911-2c2336fc15ae",
   "metadata": {},
   "source": [
    "## Model Training and Evaluation\n",
    "\n",
    "- Initialized the Multinomial Naive Bayes classifier.\n",
    "- Trained the classifier using the training data.\n",
    "- Made predictions on the test set.\n",
    "- Evaluated the model's performance using accuracy score.\n"
   ]
  },
  {
   "cell_type": "code",
   "execution_count": 12,
   "id": "ebd2f244-3314-4edf-aeaa-650ef421a40e",
   "metadata": {
    "tags": []
   },
   "outputs": [
    {
     "name": "stdout",
     "output_type": "stream",
     "text": [
      "Accuracy: 0.7377450980392157\n"
     ]
    }
   ],
   "source": [
    "\n",
    "# Initialize the Multinomial Naive Bayes classifier\n",
    "classifier = MultinomialNB()\n",
    "\n",
    "# Train the classifier\n",
    "classifier.fit(X_train, y_train)\n",
    "\n",
    "# Make predictions on the test set\n",
    "y_pred = classifier.predict(X_test)\n",
    "\n",
    "# Evaluate the model\n",
    "accuracy = accuracy_score(y_test, y_pred)\n",
    "print(\"Accuracy:\", accuracy)"
   ]
  },
  {
   "cell_type": "markdown",
   "id": "780de31c-e421-4b0a-8055-5188b15cb4dd",
   "metadata": {},
   "source": [
    "## Model Evaluation Metrics\n",
    "\n",
    "### Classification Report:\n",
    "- Generated a classification report containing precision, recall, F1-score, and support for each class.\n",
    "\n",
    "### Confusion Matrix:\n",
    "- Calculated and printed the confusion matrix to visualize the performance of the classifier.\n"
   ]
  },
  {
   "cell_type": "code",
   "execution_count": 13,
   "id": "24d5336a-e4af-4f9d-93b6-2710b1f1e77e",
   "metadata": {
    "collapsed": true,
    "jupyter": {
     "outputs_hidden": true
    },
    "tags": []
   },
   "outputs": [
    {
     "name": "stdout",
     "output_type": "stream",
     "text": [
      "\n",
      "Classification Report:\n",
      "              precision    recall  f1-score   support\n",
      "\n",
      "   angriness       0.71      0.82      0.76       129\n",
      "   happiness       0.81      0.59      0.68       156\n",
      "     sadness       0.71      0.84      0.77       123\n",
      "\n",
      "    accuracy                           0.74       408\n",
      "   macro avg       0.74      0.75      0.74       408\n",
      "weighted avg       0.75      0.74      0.73       408\n",
      "\n",
      "\n",
      "Confusion Matrix:\n",
      "[[106  10  13]\n",
      " [ 35  92  29]\n",
      " [  9  11 103]]\n"
     ]
    }
   ],
   "source": [
    "\n",
    "# Classification report\n",
    "print(\"\\nClassification Report:\")\n",
    "print(classification_report(y_test, y_pred))\n",
    "\n",
    "# Confusion matrix\n",
    "print(\"\\nConfusion Matrix:\")\n",
    "print(confusion_matrix(y_test, y_pred))\n"
   ]
  },
  {
   "cell_type": "markdown",
   "id": "0b361766-f840-4539-9630-f0fe69ea5b02",
   "metadata": {},
   "source": [
    "## Hyperparameter Tuning using GridSearchCV\n",
    "\n",
    "### Best Hyperparameters:\n",
    "- Identified the best hyperparameters using GridSearchCV, which yielded the best performance.\n",
    "\n",
    "### Model Evaluation Metrics:\n",
    "- Calculated accuracy, precision, recall, and F1-score to evaluate the best model's performance.\n",
    "\n",
    "#### Classification Report:\n",
    "- Provided a detailed classification report containing precision, recall, F1-score, and support for each class.\n",
    "\n",
    "#### Confusion Matrix:\n",
    "- Generated a confusion matrix to visualize the performance of the best model.\n"
   ]
  },
  {
   "cell_type": "code",
   "execution_count": 14,
   "id": "685d797c-f2c9-493b-9716-499214f2bdc1",
   "metadata": {
    "collapsed": true,
    "jupyter": {
     "outputs_hidden": true
    },
    "tags": []
   },
   "outputs": [
    {
     "name": "stdout",
     "output_type": "stream",
     "text": [
      "Best Hyperparameters: {'alpha': 0.5}\n",
      "Accuracy: 0.7426470588235294\n",
      "\n",
      "Classification Report:\n",
      "              precision    recall  f1-score   support\n",
      "\n",
      "   angriness       0.72      0.81      0.76       129\n",
      "   happiness       0.81      0.62      0.70       156\n",
      "     sadness       0.72      0.84      0.77       123\n",
      "\n",
      "    accuracy                           0.74       408\n",
      "   macro avg       0.75      0.75      0.74       408\n",
      "weighted avg       0.75      0.74      0.74       408\n",
      "\n",
      "\n",
      "Confusion Matrix:\n",
      "[[104  12  13]\n",
      " [ 32  96  28]\n",
      " [  9  11 103]]\n"
     ]
    }
   ],
   "source": [
    "\n",
    "# Define hyperparameters to tune\n",
    "param_grid = {\n",
    "    'alpha': [0.1, 0.5, 1.0],  \n",
    "}\n",
    "\n",
    "# Initialize Multinomial Naive Bayes classifier\n",
    "classifier = MultinomialNB()\n",
    "\n",
    "# Perform GridSearchCV for hyperparameter tuning\n",
    "grid_search = GridSearchCV(classifier, param_grid, cv=5, scoring='accuracy')\n",
    "best_model = grid_search.fit(X_train, y_train)\n",
    "\n",
    "# Print best hyperparameters\n",
    "print(\"Best Hyperparameters:\", best_model.best_params_)\n",
    "\n",
    "# Predictions on test set using the best model\n",
    "y_pred = best_model.predict(X_test)\n",
    "\n",
    "# Evaluate the best model\n",
    "accuracy = accuracy_score(y_test, y_pred)\n",
    "print(\"Accuracy:\", accuracy)\n",
    "\n",
    "# Classification report\n",
    "print(\"\\nClassification Report:\")\n",
    "print(classification_report(y_test, y_pred))\n",
    "\n",
    "# Confusion matrix\n",
    "print(\"\\nConfusion Matrix:\")\n",
    "print(confusion_matrix(y_test, y_pred))\n"
   ]
  },
  {
   "cell_type": "markdown",
   "id": "b5101860-8e7e-4f7e-addc-9cdc255f9843",
   "metadata": {},
   "source": [
    "## Hyperparameter Tuning using RandomizedSearchCV\n",
    "\n",
    "### Best Hyperparameters:\n",
    "- Utilized RandomizedSearchCV to identify the best hyperparameters, which resulted in improved performance.\n",
    "\n",
    "### Cross-Validation:\n",
    "- Evaluated the best model's performance using cross-validation to ensure robustness and reliability.\n",
    "\n",
    "#### Mean Cross-Validation Score:\n",
    "- Calculated the mean cross-validation score to assess the overall performance of the best model.\n"
   ]
  },
  {
   "cell_type": "code",
   "execution_count": 15,
   "id": "03780c19-ed47-4758-bf2d-d57d38d63f29",
   "metadata": {
    "tags": []
   },
   "outputs": [
    {
     "name": "stdout",
     "output_type": "stream",
     "text": [
      "Best Hyperparameters: {'alpha': 0.47454011884736247}\n",
      "Cross-Validation Scores: [0.77981651 0.79141104 0.71472393 0.7607362  0.7607362 ]\n",
      "Mean CV Score: 0.7614847751449316\n"
     ]
    }
   ],
   "source": [
    "\n",
    "# Define the hyperparameter grid\n",
    "param_dist = {'alpha': uniform(0.1, 1.0)}  \n",
    "\n",
    "# Initialize the Multinomial Naive Bayes classifier\n",
    "classifier = MultinomialNB()\n",
    "\n",
    "# Initialize RandomizedSearchCV\n",
    "random_search = RandomizedSearchCV(classifier, param_distributions=param_dist, n_iter=10, cv=5, scoring='accuracy', random_state=42)\n",
    "\n",
    "# Perform RandomizedSearchCV\n",
    "random_search.fit(X_train, y_train)\n",
    "\n",
    "# Print the best hyperparameters\n",
    "print(\"Best Hyperparameters:\", random_search.best_params_)\n",
    "\n",
    "# Evaluate the best model using cross-validation\n",
    "best_model = random_search.best_estimator_\n",
    "cv_scores = cross_val_score(best_model, X_train, y_train, cv=5)\n",
    "print(\"Cross-Validation Scores:\", cv_scores)\n",
    "print(\"Mean CV Score:\", cv_scores.mean())\n"
   ]
  },
  {
   "cell_type": "markdown",
   "id": "beb30c81-b7c2-4c50-a35d-78b598fe5a1f",
   "metadata": {},
   "source": [
    "## Model Evaluation\n",
    "\n",
    "### Accuracy:\n",
    "- The accuracy of the best model on the test set is calculated to assess its overall performance.\n",
    "\n",
    "### Classification Report:\n",
    "- A detailed classification report is generated to provide insights into the precision, recall, and F1-score for each class.\n",
    "\n",
    "### Confusion Matrix:\n",
    "- The confusion matrix is generated to visualize the performance of the model in terms of true positive, false positive, true negative, and false negative predictions.\n"
   ]
  },
  {
   "cell_type": "code",
   "execution_count": 16,
   "id": "c99e323b-e8ae-4dea-8f96-9c34331b1147",
   "metadata": {
    "tags": []
   },
   "outputs": [
    {
     "name": "stdout",
     "output_type": "stream",
     "text": [
      "Accuracy: 0.7401960784313726\n",
      "Classification Report:\n",
      "              precision    recall  f1-score   support\n",
      "\n",
      "   angriness       0.72      0.81      0.76       129\n",
      "   happiness       0.80      0.62      0.70       156\n",
      "     sadness       0.71      0.83      0.77       123\n",
      "\n",
      "    accuracy                           0.74       408\n",
      "   macro avg       0.74      0.75      0.74       408\n",
      "weighted avg       0.75      0.74      0.74       408\n",
      "\n",
      "Confusion Matrix:\n",
      "[[104  12  13]\n",
      " [ 32  96  28]\n",
      " [  9  12 102]]\n"
     ]
    }
   ],
   "source": [
    "\n",
    "# Predictions on test set\n",
    "y_pred_test = best_model.predict(X_test)\n",
    "\n",
    "# Calculate accuracy score\n",
    "accuracy = accuracy_score(y_test, y_pred_test)\n",
    "print(\"Accuracy:\", accuracy)\n",
    "\n",
    "# Generate classification report\n",
    "print(\"Classification Report:\")\n",
    "print(classification_report(y_test, y_pred_test))\n",
    "\n",
    "# Generate confusion matrix\n",
    "print(\"Confusion Matrix:\")\n",
    "print(confusion_matrix(y_test, y_pred_test))\n"
   ]
  },
  {
   "cell_type": "markdown",
   "id": "bec982f7-654a-4ba9-ae4b-5d7f9614aeb8",
   "metadata": {},
   "source": [
    "## Model Deployment with Amazon SageMaker\n",
    "\n",
    "### Initialize SageMaker Session:\n",
    "- Initialize the SageMaker session to interact with SageMaker services.\n",
    "\n",
    "### Specify IAM Role:\n",
    "- Specify the IAM role ARN used to give SageMaker access to your data and resources.\n",
    "\n",
    "### Define Endpoint Name:\n",
    "- Create a unique name for the endpoint where the deployed model will be hosted.\n",
    "\n",
    "### Deploy the Model:\n",
    "- Deploy the trained model to Amazon SageMaker with specified configurations such as instance count, instance type, and endpoint name.\n"
   ]
  },
  {
   "cell_type": "code",
   "execution_count": null,
   "id": "ccbded4b-f707-4627-9d6d-bc690f8e3b06",
   "metadata": {},
   "outputs": [],
   "source": [
    "\n",
    "# Initialize the SageMaker session\n",
    "session = sagemaker.Session()\n",
    "\n",
    "# Specify the IAM role arn used to give SageMaker access to data\n",
    "role = \"sagemaker-role-arn\"\n",
    "\n",
    "# Create a unique name for the endpoint\n",
    "endpoint_name = \"endpoint-name\"\n",
    "\n",
    "# Deploy the model to Amazon SageMaker\n",
    "predictor = None\n",
    "try:\n",
    "    # Deploy the model\n",
    "    predictor = model.deploy(\n",
    "        initial_instance_count=1,\n",
    "        instance_type=\"ml.m4.xlarge\",\n",
    "        endpoint_name=endpoint_name\n",
    "    )\n",
    "    print(\"Model deployed successfully!\")\n",
    "except Exception as e:\n",
    "    print(\"Deployment failed:\", e)\n"
   ]
  },
  {
   "cell_type": "markdown",
   "id": "6eef85e3-ed82-4929-a242-21df4ab93034",
   "metadata": {},
   "source": [
    "## Project Conclusion:\n",
    "\n",
    "In this project, we aimed to develop a text classification model to classify text data into different intensity levels of emotions such as happiness, sadness, and angriness. Here's a summary of the key steps and findings of the project:\n",
    "\n",
    "1. **Data Collection:** We collected text data for different emotions from various sources and stored them in separate CSV files.\n",
    "\n",
    "2. **Data Preprocessing:** The collected data underwent preprocessing steps including removing special characters, converting text to lowercase, and handling missing values.\n",
    "\n",
    "3. **Feature Engineering:** We used TF-IDF vectorization to convert the text data into numerical features, which represent the importance of words in the documents.\n",
    "\n",
    "4. **Feature Selection:** To select the most relevant features, we employed SelectKBest with the chi-square test to reduce the dimensionality of the feature space.\n",
    "\n",
    "5. **Model Training:** We trained a Multinomial Naive Bayes classifier using the preprocessed and selected features.\n",
    "\n",
    "6. **Model Evaluation:** The trained model was evaluated using metrics such as accuracy, precision, recall, and F1-score. Additionally, confusion matrices were generated to analyze the performance of the model for each emotion class.\n",
    "\n",
    "7. **Hyperparameter Tuning:** We explored hyperparameter tuning using techniques like GridSearchCV and RandomizedSearchCV to optimize the model's performance.\n",
    "\n",
    "8. **Deployment:** Finally, we deployed the trained model on Amazon SageMaker to make it available for inference.\n",
    "\n",
    "**Conclusion:** The developed text classification model demonstrated promising results in accurately classifying text data into different emotion intensity levels. Through systematic preprocessing, feature engineering, and model training, we were able to build a robust model capable of understanding and classifying emotions in textual data. The deployment of the model on Amazon SageMaker provides a scalable and efficient solution for real-time inference, making it suitable for various applications such as sentiment analysis, customer feedback analysis, and social media monitoring.\n",
    "\n",
    "\n",
    "### Thank You\n",
    "\n",
    "#### Riddhi Sharma - Data Scientist"
   ]
  }
 ],
 "metadata": {
  "availableInstances": [
   {
    "_defaultOrder": 0,
    "_isFastLaunch": true,
    "category": "General purpose",
    "gpuNum": 0,
    "hideHardwareSpecs": false,
    "memoryGiB": 4,
    "name": "ml.t3.medium",
    "vcpuNum": 2
   },
   {
    "_defaultOrder": 1,
    "_isFastLaunch": false,
    "category": "General purpose",
    "gpuNum": 0,
    "hideHardwareSpecs": false,
    "memoryGiB": 8,
    "name": "ml.t3.large",
    "vcpuNum": 2
   },
   {
    "_defaultOrder": 2,
    "_isFastLaunch": false,
    "category": "General purpose",
    "gpuNum": 0,
    "hideHardwareSpecs": false,
    "memoryGiB": 16,
    "name": "ml.t3.xlarge",
    "vcpuNum": 4
   },
   {
    "_defaultOrder": 3,
    "_isFastLaunch": false,
    "category": "General purpose",
    "gpuNum": 0,
    "hideHardwareSpecs": false,
    "memoryGiB": 32,
    "name": "ml.t3.2xlarge",
    "vcpuNum": 8
   },
   {
    "_defaultOrder": 4,
    "_isFastLaunch": true,
    "category": "General purpose",
    "gpuNum": 0,
    "hideHardwareSpecs": false,
    "memoryGiB": 8,
    "name": "ml.m5.large",
    "vcpuNum": 2
   },
   {
    "_defaultOrder": 5,
    "_isFastLaunch": false,
    "category": "General purpose",
    "gpuNum": 0,
    "hideHardwareSpecs": false,
    "memoryGiB": 16,
    "name": "ml.m5.xlarge",
    "vcpuNum": 4
   },
   {
    "_defaultOrder": 6,
    "_isFastLaunch": false,
    "category": "General purpose",
    "gpuNum": 0,
    "hideHardwareSpecs": false,
    "memoryGiB": 32,
    "name": "ml.m5.2xlarge",
    "vcpuNum": 8
   },
   {
    "_defaultOrder": 7,
    "_isFastLaunch": false,
    "category": "General purpose",
    "gpuNum": 0,
    "hideHardwareSpecs": false,
    "memoryGiB": 64,
    "name": "ml.m5.4xlarge",
    "vcpuNum": 16
   },
   {
    "_defaultOrder": 8,
    "_isFastLaunch": false,
    "category": "General purpose",
    "gpuNum": 0,
    "hideHardwareSpecs": false,
    "memoryGiB": 128,
    "name": "ml.m5.8xlarge",
    "vcpuNum": 32
   },
   {
    "_defaultOrder": 9,
    "_isFastLaunch": false,
    "category": "General purpose",
    "gpuNum": 0,
    "hideHardwareSpecs": false,
    "memoryGiB": 192,
    "name": "ml.m5.12xlarge",
    "vcpuNum": 48
   },
   {
    "_defaultOrder": 10,
    "_isFastLaunch": false,
    "category": "General purpose",
    "gpuNum": 0,
    "hideHardwareSpecs": false,
    "memoryGiB": 256,
    "name": "ml.m5.16xlarge",
    "vcpuNum": 64
   },
   {
    "_defaultOrder": 11,
    "_isFastLaunch": false,
    "category": "General purpose",
    "gpuNum": 0,
    "hideHardwareSpecs": false,
    "memoryGiB": 384,
    "name": "ml.m5.24xlarge",
    "vcpuNum": 96
   },
   {
    "_defaultOrder": 12,
    "_isFastLaunch": false,
    "category": "General purpose",
    "gpuNum": 0,
    "hideHardwareSpecs": false,
    "memoryGiB": 8,
    "name": "ml.m5d.large",
    "vcpuNum": 2
   },
   {
    "_defaultOrder": 13,
    "_isFastLaunch": false,
    "category": "General purpose",
    "gpuNum": 0,
    "hideHardwareSpecs": false,
    "memoryGiB": 16,
    "name": "ml.m5d.xlarge",
    "vcpuNum": 4
   },
   {
    "_defaultOrder": 14,
    "_isFastLaunch": false,
    "category": "General purpose",
    "gpuNum": 0,
    "hideHardwareSpecs": false,
    "memoryGiB": 32,
    "name": "ml.m5d.2xlarge",
    "vcpuNum": 8
   },
   {
    "_defaultOrder": 15,
    "_isFastLaunch": false,
    "category": "General purpose",
    "gpuNum": 0,
    "hideHardwareSpecs": false,
    "memoryGiB": 64,
    "name": "ml.m5d.4xlarge",
    "vcpuNum": 16
   },
   {
    "_defaultOrder": 16,
    "_isFastLaunch": false,
    "category": "General purpose",
    "gpuNum": 0,
    "hideHardwareSpecs": false,
    "memoryGiB": 128,
    "name": "ml.m5d.8xlarge",
    "vcpuNum": 32
   },
   {
    "_defaultOrder": 17,
    "_isFastLaunch": false,
    "category": "General purpose",
    "gpuNum": 0,
    "hideHardwareSpecs": false,
    "memoryGiB": 192,
    "name": "ml.m5d.12xlarge",
    "vcpuNum": 48
   },
   {
    "_defaultOrder": 18,
    "_isFastLaunch": false,
    "category": "General purpose",
    "gpuNum": 0,
    "hideHardwareSpecs": false,
    "memoryGiB": 256,
    "name": "ml.m5d.16xlarge",
    "vcpuNum": 64
   },
   {
    "_defaultOrder": 19,
    "_isFastLaunch": false,
    "category": "General purpose",
    "gpuNum": 0,
    "hideHardwareSpecs": false,
    "memoryGiB": 384,
    "name": "ml.m5d.24xlarge",
    "vcpuNum": 96
   },
   {
    "_defaultOrder": 20,
    "_isFastLaunch": false,
    "category": "General purpose",
    "gpuNum": 0,
    "hideHardwareSpecs": true,
    "memoryGiB": 0,
    "name": "ml.geospatial.interactive",
    "supportedImageNames": [
     "sagemaker-geospatial-v1-0"
    ],
    "vcpuNum": 0
   },
   {
    "_defaultOrder": 21,
    "_isFastLaunch": true,
    "category": "Compute optimized",
    "gpuNum": 0,
    "hideHardwareSpecs": false,
    "memoryGiB": 4,
    "name": "ml.c5.large",
    "vcpuNum": 2
   },
   {
    "_defaultOrder": 22,
    "_isFastLaunch": false,
    "category": "Compute optimized",
    "gpuNum": 0,
    "hideHardwareSpecs": false,
    "memoryGiB": 8,
    "name": "ml.c5.xlarge",
    "vcpuNum": 4
   },
   {
    "_defaultOrder": 23,
    "_isFastLaunch": false,
    "category": "Compute optimized",
    "gpuNum": 0,
    "hideHardwareSpecs": false,
    "memoryGiB": 16,
    "name": "ml.c5.2xlarge",
    "vcpuNum": 8
   },
   {
    "_defaultOrder": 24,
    "_isFastLaunch": false,
    "category": "Compute optimized",
    "gpuNum": 0,
    "hideHardwareSpecs": false,
    "memoryGiB": 32,
    "name": "ml.c5.4xlarge",
    "vcpuNum": 16
   },
   {
    "_defaultOrder": 25,
    "_isFastLaunch": false,
    "category": "Compute optimized",
    "gpuNum": 0,
    "hideHardwareSpecs": false,
    "memoryGiB": 72,
    "name": "ml.c5.9xlarge",
    "vcpuNum": 36
   },
   {
    "_defaultOrder": 26,
    "_isFastLaunch": false,
    "category": "Compute optimized",
    "gpuNum": 0,
    "hideHardwareSpecs": false,
    "memoryGiB": 96,
    "name": "ml.c5.12xlarge",
    "vcpuNum": 48
   },
   {
    "_defaultOrder": 27,
    "_isFastLaunch": false,
    "category": "Compute optimized",
    "gpuNum": 0,
    "hideHardwareSpecs": false,
    "memoryGiB": 144,
    "name": "ml.c5.18xlarge",
    "vcpuNum": 72
   },
   {
    "_defaultOrder": 28,
    "_isFastLaunch": false,
    "category": "Compute optimized",
    "gpuNum": 0,
    "hideHardwareSpecs": false,
    "memoryGiB": 192,
    "name": "ml.c5.24xlarge",
    "vcpuNum": 96
   },
   {
    "_defaultOrder": 29,
    "_isFastLaunch": true,
    "category": "Accelerated computing",
    "gpuNum": 1,
    "hideHardwareSpecs": false,
    "memoryGiB": 16,
    "name": "ml.g4dn.xlarge",
    "vcpuNum": 4
   },
   {
    "_defaultOrder": 30,
    "_isFastLaunch": false,
    "category": "Accelerated computing",
    "gpuNum": 1,
    "hideHardwareSpecs": false,
    "memoryGiB": 32,
    "name": "ml.g4dn.2xlarge",
    "vcpuNum": 8
   },
   {
    "_defaultOrder": 31,
    "_isFastLaunch": false,
    "category": "Accelerated computing",
    "gpuNum": 1,
    "hideHardwareSpecs": false,
    "memoryGiB": 64,
    "name": "ml.g4dn.4xlarge",
    "vcpuNum": 16
   },
   {
    "_defaultOrder": 32,
    "_isFastLaunch": false,
    "category": "Accelerated computing",
    "gpuNum": 1,
    "hideHardwareSpecs": false,
    "memoryGiB": 128,
    "name": "ml.g4dn.8xlarge",
    "vcpuNum": 32
   },
   {
    "_defaultOrder": 33,
    "_isFastLaunch": false,
    "category": "Accelerated computing",
    "gpuNum": 4,
    "hideHardwareSpecs": false,
    "memoryGiB": 192,
    "name": "ml.g4dn.12xlarge",
    "vcpuNum": 48
   },
   {
    "_defaultOrder": 34,
    "_isFastLaunch": false,
    "category": "Accelerated computing",
    "gpuNum": 1,
    "hideHardwareSpecs": false,
    "memoryGiB": 256,
    "name": "ml.g4dn.16xlarge",
    "vcpuNum": 64
   },
   {
    "_defaultOrder": 35,
    "_isFastLaunch": false,
    "category": "Accelerated computing",
    "gpuNum": 1,
    "hideHardwareSpecs": false,
    "memoryGiB": 61,
    "name": "ml.p3.2xlarge",
    "vcpuNum": 8
   },
   {
    "_defaultOrder": 36,
    "_isFastLaunch": false,
    "category": "Accelerated computing",
    "gpuNum": 4,
    "hideHardwareSpecs": false,
    "memoryGiB": 244,
    "name": "ml.p3.8xlarge",
    "vcpuNum": 32
   },
   {
    "_defaultOrder": 37,
    "_isFastLaunch": false,
    "category": "Accelerated computing",
    "gpuNum": 8,
    "hideHardwareSpecs": false,
    "memoryGiB": 488,
    "name": "ml.p3.16xlarge",
    "vcpuNum": 64
   },
   {
    "_defaultOrder": 38,
    "_isFastLaunch": false,
    "category": "Accelerated computing",
    "gpuNum": 8,
    "hideHardwareSpecs": false,
    "memoryGiB": 768,
    "name": "ml.p3dn.24xlarge",
    "vcpuNum": 96
   },
   {
    "_defaultOrder": 39,
    "_isFastLaunch": false,
    "category": "Memory Optimized",
    "gpuNum": 0,
    "hideHardwareSpecs": false,
    "memoryGiB": 16,
    "name": "ml.r5.large",
    "vcpuNum": 2
   },
   {
    "_defaultOrder": 40,
    "_isFastLaunch": false,
    "category": "Memory Optimized",
    "gpuNum": 0,
    "hideHardwareSpecs": false,
    "memoryGiB": 32,
    "name": "ml.r5.xlarge",
    "vcpuNum": 4
   },
   {
    "_defaultOrder": 41,
    "_isFastLaunch": false,
    "category": "Memory Optimized",
    "gpuNum": 0,
    "hideHardwareSpecs": false,
    "memoryGiB": 64,
    "name": "ml.r5.2xlarge",
    "vcpuNum": 8
   },
   {
    "_defaultOrder": 42,
    "_isFastLaunch": false,
    "category": "Memory Optimized",
    "gpuNum": 0,
    "hideHardwareSpecs": false,
    "memoryGiB": 128,
    "name": "ml.r5.4xlarge",
    "vcpuNum": 16
   },
   {
    "_defaultOrder": 43,
    "_isFastLaunch": false,
    "category": "Memory Optimized",
    "gpuNum": 0,
    "hideHardwareSpecs": false,
    "memoryGiB": 256,
    "name": "ml.r5.8xlarge",
    "vcpuNum": 32
   },
   {
    "_defaultOrder": 44,
    "_isFastLaunch": false,
    "category": "Memory Optimized",
    "gpuNum": 0,
    "hideHardwareSpecs": false,
    "memoryGiB": 384,
    "name": "ml.r5.12xlarge",
    "vcpuNum": 48
   },
   {
    "_defaultOrder": 45,
    "_isFastLaunch": false,
    "category": "Memory Optimized",
    "gpuNum": 0,
    "hideHardwareSpecs": false,
    "memoryGiB": 512,
    "name": "ml.r5.16xlarge",
    "vcpuNum": 64
   },
   {
    "_defaultOrder": 46,
    "_isFastLaunch": false,
    "category": "Memory Optimized",
    "gpuNum": 0,
    "hideHardwareSpecs": false,
    "memoryGiB": 768,
    "name": "ml.r5.24xlarge",
    "vcpuNum": 96
   },
   {
    "_defaultOrder": 47,
    "_isFastLaunch": false,
    "category": "Accelerated computing",
    "gpuNum": 1,
    "hideHardwareSpecs": false,
    "memoryGiB": 16,
    "name": "ml.g5.xlarge",
    "vcpuNum": 4
   },
   {
    "_defaultOrder": 48,
    "_isFastLaunch": false,
    "category": "Accelerated computing",
    "gpuNum": 1,
    "hideHardwareSpecs": false,
    "memoryGiB": 32,
    "name": "ml.g5.2xlarge",
    "vcpuNum": 8
   },
   {
    "_defaultOrder": 49,
    "_isFastLaunch": false,
    "category": "Accelerated computing",
    "gpuNum": 1,
    "hideHardwareSpecs": false,
    "memoryGiB": 64,
    "name": "ml.g5.4xlarge",
    "vcpuNum": 16
   },
   {
    "_defaultOrder": 50,
    "_isFastLaunch": false,
    "category": "Accelerated computing",
    "gpuNum": 1,
    "hideHardwareSpecs": false,
    "memoryGiB": 128,
    "name": "ml.g5.8xlarge",
    "vcpuNum": 32
   },
   {
    "_defaultOrder": 51,
    "_isFastLaunch": false,
    "category": "Accelerated computing",
    "gpuNum": 1,
    "hideHardwareSpecs": false,
    "memoryGiB": 256,
    "name": "ml.g5.16xlarge",
    "vcpuNum": 64
   },
   {
    "_defaultOrder": 52,
    "_isFastLaunch": false,
    "category": "Accelerated computing",
    "gpuNum": 4,
    "hideHardwareSpecs": false,
    "memoryGiB": 192,
    "name": "ml.g5.12xlarge",
    "vcpuNum": 48
   },
   {
    "_defaultOrder": 53,
    "_isFastLaunch": false,
    "category": "Accelerated computing",
    "gpuNum": 4,
    "hideHardwareSpecs": false,
    "memoryGiB": 384,
    "name": "ml.g5.24xlarge",
    "vcpuNum": 96
   },
   {
    "_defaultOrder": 54,
    "_isFastLaunch": false,
    "category": "Accelerated computing",
    "gpuNum": 8,
    "hideHardwareSpecs": false,
    "memoryGiB": 768,
    "name": "ml.g5.48xlarge",
    "vcpuNum": 192
   },
   {
    "_defaultOrder": 55,
    "_isFastLaunch": false,
    "category": "Accelerated computing",
    "gpuNum": 8,
    "hideHardwareSpecs": false,
    "memoryGiB": 1152,
    "name": "ml.p4d.24xlarge",
    "vcpuNum": 96
   },
   {
    "_defaultOrder": 56,
    "_isFastLaunch": false,
    "category": "Accelerated computing",
    "gpuNum": 8,
    "hideHardwareSpecs": false,
    "memoryGiB": 1152,
    "name": "ml.p4de.24xlarge",
    "vcpuNum": 96
   },
   {
    "_defaultOrder": 57,
    "_isFastLaunch": false,
    "category": "Accelerated computing",
    "gpuNum": 0,
    "hideHardwareSpecs": false,
    "memoryGiB": 32,
    "name": "ml.trn1.2xlarge",
    "vcpuNum": 8
   },
   {
    "_defaultOrder": 58,
    "_isFastLaunch": false,
    "category": "Accelerated computing",
    "gpuNum": 0,
    "hideHardwareSpecs": false,
    "memoryGiB": 512,
    "name": "ml.trn1.32xlarge",
    "vcpuNum": 128
   },
   {
    "_defaultOrder": 59,
    "_isFastLaunch": false,
    "category": "Accelerated computing",
    "gpuNum": 0,
    "hideHardwareSpecs": false,
    "memoryGiB": 512,
    "name": "ml.trn1n.32xlarge",
    "vcpuNum": 128
   }
  ],
  "instance_type": "ml.t3.medium",
  "kernelspec": {
   "display_name": "Python 3 (Data Science 3.0)",
   "language": "python",
   "name": "python3__SAGEMAKER_INTERNAL__arn:aws:sagemaker:us-east-1:081325390199:image/sagemaker-data-science-310-v1"
  },
  "language_info": {
   "codemirror_mode": {
    "name": "ipython",
    "version": 3
   },
   "file_extension": ".py",
   "mimetype": "text/x-python",
   "name": "python",
   "nbconvert_exporter": "python",
   "pygments_lexer": "ipython3",
   "version": "3.10.6"
  }
 },
 "nbformat": 4,
 "nbformat_minor": 5
}

